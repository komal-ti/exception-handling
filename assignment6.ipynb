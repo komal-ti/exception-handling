{
 "cells": [
  {
   "cell_type": "markdown",
   "metadata": {},
   "source": [
    "Ques1: Discuss the scenarios where multithreading is preferable to multiprocessing and scenarios where multiprocessing is a better choice.\n",
    "Ans: Use Multithreading When:  \n",
    "1.  Tasks are I/O-bound (e.g., web scraping).  \n",
    "2. Shared memory is needed.  \n",
    "3. Lightweight and low overhead are important.  \n",
    "4. GIL is not a bottleneck (or using non-Python languages).  \n",
    "\n",
    "Use Multiprocessing When:  \n",
    "1. Tasks are CPU-bound (e.g., data processing).  \n",
    "2. Tasks are independent and don't share memory.  \n",
    "3. Bypassing GIL in Python is necessary.  \n",
    "4. Fault isolation and full CPU core utilization are required."
   ]
  },
  {
   "cell_type": "markdown",
   "metadata": {},
   "source": [
    "Ques2:Describe what a process pool is and how it helps in managing multiple processes efficiently.\n",
    "Ans: A process pool is a collection of pre-initialized worker processes used to manage and execute tasks efficiently in parallel. It simplifies the creation and management of multiple processes by reusing workers, reducing overhead associated with process creation and destruction. \n",
    "\n",
    "Benefits:\n",
    "1. Efficiency: Reuses processes, avoiding the cost of frequently starting and stopping them.\n",
    "2. Task Distribution: Automatically divides tasks among workers, balancing the load.\n",
    "3. Concurrency: Allows multiple tasks to run in parallel across CPU cores.\n",
    "4. Simplified API: Provides functions like `map`, `apply`, and `starmap` for distributing tasks easily.\n",
    "\n",
    "This is ideal for scenarios like batch processing or CPU-intensive tasks."
   ]
  },
  {
   "cell_type": "markdown",
   "metadata": {},
   "source": [
    "Ques3: Explain what multiprocessing is and why it is used in Python programs.\n",
    "Ans: Multiprocessing in Python is a module that allows the creation and management of multiple processes to achieve parallelism by leveraging multiple CPU cores. It is used to overcome the Global Interpreter Lock (GIL) limitation in Python, which restricts multithreading for CPU-bound tasks.\n",
    "\n",
    "Why It Is Used:\n",
    "1. True Parallelism: Executes tasks simultaneously on multiple CPU cores.  \n",
    "2. Bypassing GIL: Allows parallel execution for CPU-bound tasks, which threads cannot achieve in Python.  \n",
    "3. Performance Boost: Speeds up compute-intensive tasks like numerical simulations or data processing.  \n",
    "4. Fault Isolation: Each process runs independently, reducing the risk of one failure affecting others.  "
   ]
  },
  {
   "cell_type": "markdown",
   "metadata": {},
   "source": [
    "Ques4: Write a Python program using multithreading where one thread adds numbers to a list, and another thread removes numbers from the list. Implement a mechanism to avoid race conditions using threading.Lock."
   ]
  },
  {
   "cell_type": "code",
   "execution_count": 1,
   "metadata": {},
   "outputs": [
    {
     "name": "stdout",
     "output_type": "stream",
     "text": [
      "Added: 1\n",
      "Removed: 1\n",
      "Added: 2\n",
      "Removed: 2\n",
      "Added: 3\n",
      "Added: 4\n",
      "Removed: 3\n",
      "Added: 5\n",
      "Removed: 4\n",
      "Removed: 5\n",
      "Final list state: []\n"
     ]
    }
   ],
   "source": [
    "import threading\n",
    "import time\n",
    "\n",
    "# Shared list\n",
    "shared_list = []\n",
    "\n",
    "# Lock to prevent race conditions\n",
    "list_lock = threading.Lock()\n",
    "\n",
    "def add_numbers():\n",
    "    for i in range(1, 6):\n",
    "        with list_lock:  # Acquire the lock\n",
    "            shared_list.append(i)\n",
    "            print(f\"Added: {i}\")\n",
    "        time.sleep(0.5)  # Simulate time-consuming task\n",
    "\n",
    "def remove_numbers():\n",
    "    for _ in range(5):\n",
    "        with list_lock:  # Acquire the lock\n",
    "            if shared_list:\n",
    "                removed = shared_list.pop(0)\n",
    "                print(f\"Removed: {removed}\")\n",
    "            else:\n",
    "                print(\"List is empty, nothing to remove.\")\n",
    "        time.sleep(1)  # Simulate time-consuming task\n",
    "\n",
    "# Create threads\n",
    "adder_thread = threading.Thread(target=add_numbers)\n",
    "remover_thread = threading.Thread(target=remove_numbers)\n",
    "\n",
    "# Start threads\n",
    "adder_thread.start()\n",
    "remover_thread.start()\n",
    "\n",
    "# Wait for threads to complete\n",
    "adder_thread.join()\n",
    "remover_thread.join()\n",
    "\n",
    "print(\"Final list state:\", shared_list)\n"
   ]
  },
  {
   "cell_type": "markdown",
   "metadata": {},
   "source": [
    "Ques5:  Describe the methods and tools available in Python for safely sharing data between threads and processes.\n",
    "Ans:For Threads:\n",
    "1. `threading.Lock`: Prevents race conditions by ensuring mutual exclusion.\n",
    "2. `threading.RLock`: Reentrant lock for recursive functions.\n",
    "3. `threading.Semaphore`: Limits concurrent access to resources.\n",
    "4. `threading.Condition`: Enables inter-thread communication.\n",
    "5. `queue.Queue`: Thread-safe queue for data sharing.\n",
    "\n",
    "---\n",
    "\n",
    "For Processes:\n",
    "1. `multiprocessing.Queue`: Process-safe data sharing.\n",
    "2. `multiprocessing.Pipe`: Bidirectional communication.\n",
    "3. `multiprocessing.Manager`: Shared data structures like lists and dicts.\n",
    "4. `multiprocessing.Value/Array`: Share primitive types or arrays safely.\n",
    "5. `multiprocessing.Lock`: Mutual exclusion for processes.\n",
    "\n",
    "---\n",
    "\n",
    "General Tools:\n",
    "1. `threading.Event`/`multiprocessing.Event`: Signaling mechanism.\n",
    "2. `concurrent.futures`: Simplifies thread/process management."
   ]
  },
  {
   "cell_type": "markdown",
   "metadata": {},
   "source": [
    "Ques6: Discuss why it’s crucial to handle exceptions in concurrent programs and the techniques available for doing so.\n",
    "Ans: Why Exception Handling is Crucial in Concurrent Programs:\n",
    "1. Prevent crashes and ensure robustness.  \n",
    "2. Enable graceful recovery and resource cleanup.  \n",
    "3. Provide useful debugging information.  \n",
    "\n",
    "---\n",
    "\n",
    "Techniques for Exception Handling:\n",
    "\n",
    "For Threads:\n",
    "1. Wrap thread code in `try-except` blocks.  \n",
    "2. Use `queue.Queue` to return exceptions to the main thread.\n",
    "\n",
    "For Processes:\n",
    "1. Use `try-except` in process functions.  \n",
    "2. Handle exceptions in `multiprocessing.Pool` using callbacks or result checks.  \n",
    "3. Send exceptions to the parent process using `Queue` or `Pipe`.\n",
    "\n",
    "General:\n",
    "1. Use `logging` for detailed error tracking.  \n",
    "2. Use `finally` blocks for resource cleanup.  \n",
    "3. Set timeouts to handle unresponsive tasks."
   ]
  },
  {
   "cell_type": "markdown",
   "metadata": {},
   "source": [
    "Ques7:Create a program that uses a thread pool to calculate the factorial of numbers from 1 to 10 concurrently. Use concurrent.futures.ThreadPoolExecutor to manage the threads."
   ]
  },
  {
   "cell_type": "code",
   "execution_count": 2,
   "metadata": {},
   "outputs": [
    {
     "name": "stdout",
     "output_type": "stream",
     "text": [
      "Factorial of 1 is 1\n",
      "Factorial of 2 is 2\n",
      "Factorial of 3 is 6\n",
      "Factorial of 4 is 24\n",
      "Factorial of 5 is 120\n",
      "Factorial of 6 is 720\n",
      "Factorial of 7 is 5040\n",
      "Factorial of 8 is 40320\n",
      "Factorial of 9 is 362880\n",
      "Factorial of 10 is 3628800\n"
     ]
    }
   ],
   "source": [
    "import concurrent.futures\n",
    "import math\n",
    "\n",
    "# Function to calculate factorial\n",
    "def calculate_factorial(n):\n",
    "    return math.factorial(n)\n",
    "\n",
    "# Main function to calculate factorials concurrently using ThreadPoolExecutor\n",
    "def main():\n",
    "    # Use a ThreadPoolExecutor to create a pool of threads\n",
    "    with concurrent.futures.ThreadPoolExecutor() as executor:\n",
    "        # Submit tasks to the thread pool and collect the results\n",
    "        results = executor.map(calculate_factorial, range(1, 11))\n",
    "\n",
    "    # Print the results\n",
    "    for num, result in zip(range(1, 11), results):\n",
    "        print(f\"Factorial of {num} is {result}\")\n",
    "\n",
    "# Run the program\n",
    "if __name__ == \"__main__\":\n",
    "    main()\n"
   ]
  },
  {
   "cell_type": "markdown",
   "metadata": {},
   "source": [
    "Ques8: . Create a Python program that uses multiprocessing.Pool to compute the square of numbers from 1 to 10 in parallel. Measure the time taken to perform this computation using a pool of different sizes (e.g., 2, 4, 8 processes)."
   ]
  },
  {
   "cell_type": "code",
   "execution_count": 1,
   "metadata": {},
   "outputs": [
    {
     "name": "stdout",
     "output_type": "stream",
     "text": [
      "First 10 results with pool size 2: [1, 4, 9, 16, 25, 36, 49, 64, 81, 100]...\n",
      "Time taken with pool size 2: 5.170425 seconds\n",
      "\n",
      "First 10 results with pool size 4: [1, 4, 9, 16, 25, 36, 49, 64, 81, 100]...\n",
      "Time taken with pool size 4: 5.753656 seconds\n",
      "\n",
      "First 10 results with pool size 8: [1, 4, 9, 16, 25, 36, 49, 64, 81, 100]...\n",
      "Time taken with pool size 8: 5.993666 seconds\n",
      "\n"
     ]
    }
   ],
   "source": [
    "import concurrent.futures\n",
    "import time\n",
    "\n",
    "# Function to calculate square of a number\n",
    "def square(n):\n",
    "    return n * n\n",
    "\n",
    "# Function to compute squares using ThreadPoolExecutor\n",
    "def compute_squares(pool_size, num_range):\n",
    "    with concurrent.futures.ThreadPoolExecutor(max_workers=pool_size) as executor:\n",
    "        # Submit tasks to the pool and collect the results\n",
    "        result = list(executor.map(square, range(1, num_range + 1)))\n",
    "    return result\n",
    "\n",
    "# Main function to run the computation with different pool sizes\n",
    "def main():\n",
    "    pool_sizes = [2, 4, 8]  # You can try with more or fewer threads\n",
    "    num_range = 100000  # Using a large range to better test parallelism\n",
    "    \n",
    "    for pool_size in pool_sizes:\n",
    "        # Measure the time taken for each pool size\n",
    "        start_time = time.time()\n",
    "        result = compute_squares(pool_size, num_range)\n",
    "        end_time = time.time()\n",
    "        \n",
    "        # Print results for the first 10 elements (to avoid printing too many values)\n",
    "        print(f\"First 10 results with pool size {pool_size}: {result[:10]}...\")\n",
    "        print(f\"Time taken with pool size {pool_size}: {end_time - start_time:.6f} seconds\\n\")\n",
    "\n",
    "if __name__ == \"__main__\":\n",
    "    main()\n"
   ]
  },
  {
   "cell_type": "code",
   "execution_count": null,
   "metadata": {},
   "outputs": [],
   "source": []
  }
 ],
 "metadata": {
  "kernelspec": {
   "display_name": "Python 3",
   "language": "python",
   "name": "python3"
  },
  "language_info": {
   "codemirror_mode": {
    "name": "ipython",
    "version": 3
   },
   "file_extension": ".py",
   "mimetype": "text/x-python",
   "name": "python",
   "nbconvert_exporter": "python",
   "pygments_lexer": "ipython3",
   "version": "3.12.6"
  }
 },
 "nbformat": 4,
 "nbformat_minor": 2
}
